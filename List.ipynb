{
 "cells": [
  {
   "cell_type": "markdown",
   "id": "780f2782",
   "metadata": {},
   "source": [
    "# 序列\n",
    "list = [,] 方括弧和逗點\n",
    "\n",
    "len(list) 列表元素個數"
   ]
  },
  {
   "cell_type": "code",
   "execution_count": 1,
   "id": "2d0c8e8a",
   "metadata": {},
   "outputs": [
    {
     "data": {
      "text/plain": [
       "3"
      ]
     },
     "execution_count": 1,
     "metadata": {},
     "output_type": "execute_result"
    }
   ],
   "source": [
    "my_list = [1,2,3]\n",
    "len(my_list)"
   ]
  },
  {
   "cell_type": "code",
   "execution_count": 2,
   "id": "216cfb8c",
   "metadata": {},
   "outputs": [
    {
     "data": {
      "text/plain": [
       "4"
      ]
     },
     "execution_count": 2,
     "metadata": {},
     "output_type": "execute_result"
    }
   ],
   "source": [
    "# 字串、數字、浮點數都能放在列表之中\n",
    "your_list = ['BOBO','GON',160.9,50]\n",
    "len(your_list)"
   ]
  },
  {
   "cell_type": "code",
   "execution_count": 3,
   "id": "30b417e9",
   "metadata": {},
   "outputs": [
    {
     "data": {
      "text/plain": [
       "1"
      ]
     },
     "execution_count": 3,
     "metadata": {},
     "output_type": "execute_result"
    }
   ],
   "source": [
    "her_list = ['BOBO,GON,160.9,50']\n",
    "len(her_list)"
   ]
  },
  {
   "cell_type": "code",
   "execution_count": 4,
   "id": "7c0deca6",
   "metadata": {},
   "outputs": [
    {
     "data": {
      "text/plain": [
       "'BOBO'"
      ]
     },
     "execution_count": 4,
     "metadata": {},
     "output_type": "execute_result"
    }
   ],
   "source": [
    "# Inddexing\n",
    "your_list[0]"
   ]
  },
  {
   "cell_type": "code",
   "execution_count": 5,
   "id": "22245cb1",
   "metadata": {},
   "outputs": [
    {
     "data": {
      "text/plain": [
       "'BOBO,GON,160.9,50'"
      ]
     },
     "execution_count": 5,
     "metadata": {},
     "output_type": "execute_result"
    }
   ],
   "source": [
    "her_list[0]"
   ]
  },
  {
   "cell_type": "code",
   "execution_count": 8,
   "id": "3ab3e8e6",
   "metadata": {},
   "outputs": [
    {
     "data": {
      "text/plain": [
       "['GON', 160.9]"
      ]
     },
     "execution_count": 8,
     "metadata": {},
     "output_type": "execute_result"
    }
   ],
   "source": [
    "# Slicing\n",
    "your_list[1:3]"
   ]
  },
  {
   "cell_type": "code",
   "execution_count": 12,
   "id": "b992f2d1",
   "metadata": {},
   "outputs": [
    {
     "data": {
      "text/plain": [
       "[1, 2, 3, 'BOBO', 'GON', 160.9, 50, 'BOBO,GON,160.9,50']"
      ]
     },
     "execution_count": 12,
     "metadata": {},
     "output_type": "execute_result"
    }
   ],
   "source": [
    "# concatenate 連接\n",
    "my_list + your_list + her_list"
   ]
  },
  {
   "cell_type": "code",
   "execution_count": null,
   "id": "b91fcaff",
   "metadata": {},
   "outputs": [],
   "source": []
  }
 ],
 "metadata": {
  "kernelspec": {
   "display_name": "Python 3 (ipykernel)",
   "language": "python",
   "name": "python3"
  },
  "language_info": {
   "codemirror_mode": {
    "name": "ipython",
    "version": 3
   },
   "file_extension": ".py",
   "mimetype": "text/x-python",
   "name": "python",
   "nbconvert_exporter": "python",
   "pygments_lexer": "ipython3",
   "version": "3.11.5"
  }
 },
 "nbformat": 4,
 "nbformat_minor": 5
}
